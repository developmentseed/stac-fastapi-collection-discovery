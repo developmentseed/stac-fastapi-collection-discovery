{
 "cells": [
  {
   "cell_type": "code",
   "execution_count": null,
   "id": "9c257d87",
   "metadata": {
    "editable": true,
    "jupyter": {
     "source_hidden": true
    },
    "slideshow": {
     "slide_type": ""
    },
    "tags": [
     "hide_code"
    ]
   },
   "outputs": [],
   "source": [
    "# /// script\n",
    "# requires-python = \">=3.13\"\n",
    "# dependencies = [\n",
    "#     \"httpx\",\n",
    "#     \"pystac-client\",\n",
    "#     \"requests\",\n",
    "# ]\n",
    "# ///"
   ]
  },
  {
   "cell_type": "markdown",
   "id": "b5966a9f-f5bd-44c3-8aa0-793eaf2294d8",
   "metadata": {
    "editable": true,
    "slideshow": {
     "slide_type": ""
    },
    "tags": []
   },
   "source": [
    "The STAC Collection Discovery API is a collection-search-only STAC API that combines paginated search results from multiple upstream STAC APIs into a single endpoint.\n",
    "\n",
    "## Overview\n",
    "\n",
    "This API acts as a proxy/aggregator, allowing you to search for collections across multiple STAC catalogs simultaneously. Instead of querying each STAC API individually, you can use this service to get unified results from all configured endpoints.\n",
    "\n",
    "### Key Features\n",
    "\n",
    "- **Unified Collection Search**: Search across multiple STAC APIs with a single request\n",
    "- **Dynamic API Selection**: Override default APIs using the `apis` parameter\n",
    "- **Smart Conformance Classes**: Only returns capabilities supported by ALL queried APIs\n",
    "- **Token-based Pagination**: Maintains state across all upstream APIs\n",
    "- **Standard STAC Extensions**: Supports filtering, sorting, free-text search, and field selection\n",
    "\n",
    "### Important Behavior\n",
    "\n",
    "- **Pagination Multiplier**: The `limit` parameter applies to each upstream API, so with `limit=10` and 3 APIs, you may get up to 30 collections per page\n",
    "- **Conformance Intersection**: Only collection-search features supported by ALL upstream APIs are available in the response\n",
    "- **Enabled Extensions**: Limited to filter, sort, free-text search, and fields selection extensions\n",
    "\n",
    "Let's explore how to use this API with some practical examples."
   ]
  },
  {
   "cell_type": "code",
   "execution_count": 1,
   "id": "a6d9dbf9-fe32-4939-bf8a-67c68d2467b2",
   "metadata": {
    "editable": true,
    "slideshow": {
     "slide_type": ""
    },
    "tags": []
   },
   "outputs": [],
   "source": [
    "import httpx\n",
    "import pystac_client\n",
    "from requests import Request\n",
    "\n",
    "# Assumes the docker network is running\n",
    "API_BASE_URL = \"http://localhost:8000\""
   ]
  },
  {
   "cell_type": "markdown",
   "id": "2c27d156-65b9-473c-8413-2779ad4e9559",
   "metadata": {},
   "source": [
    "## HTTP Requests\n",
    "\n",
    "The following section shows how to use `httpx` to perform queries on the API."
   ]
  },
  {
   "cell_type": "code",
   "execution_count": 2,
   "id": "i2ywstpcr9",
   "metadata": {
    "editable": true,
    "slideshow": {
     "slide_type": ""
    },
    "tags": []
   },
   "outputs": [
    {
     "name": "stdout",
     "output_type": "stream",
     "text": [
      "API Title: STAC Collection Discovery API\n",
      "Description: A collection-search-only STAC API that combines paginated search results from multiple upstream STAC APIs.\n",
      "\n",
      "## API Configuration\n",
      "\n",
      "This API has been pre-configured to search this set of upstream STAC APIs by default:\n",
      "\n",
      "- https://stac.maap-project.org\n",
      "\n",
      "- https://stac.eoapi.dev\n",
      "\n",
      "- https://cmr.earthdata.nasa.gov/stac/ALL\n",
      "\n",
      "Users can override this configuration for individual requests by providing their own list of APIs using the `apis` query parameter, either as multiple parameters (`?apis=url1&apis=url2`) or as a comma-separated string (`?apis=url1,url2`).\n",
      "\n",
      "## Conformance Classes\n",
      "\n",
      "The API's conformance classes are dynamically calculated based on the intersection of capabilities across all queried upstream APIs. The conformance classes returned for any given request represent only the collection-search features that are supported by ALL upstream APIs in the request, limited to the extensions enabled in this application: filter, sort, free-text search, and fields selection.\n",
      "\n",
      "## Pagination Behavior\n",
      "\n",
      "The `limit` parameter is passed to each upstream API individually, meaning the total number of collections returned will be `limit × number of APIs`. For example, with `limit=10` and 3 upstream APIs, you may receive up to 30 collections per page. Pagination state is maintained using base64-encoded tokens that track the current position across all upstream APIs.\n",
      "\n",
      "## Example Usage\n",
      "\n",
      "- Search all pre-configured APIs: `GET /collections`\n",
      "\n",
      "- Search with bounding box: `GET /collections?bbox=-180,-90,180,90&limit=5`\n",
      "\n",
      "- Search specific APIs: `GET /collections?apis=https://stac.eoapi.dev,https://stac.maap-project.org`\n",
      "\n",
      "- Free-text search: `GET /collections?q=landsat,sentinel`\n",
      "\n",
      "- Filtered search: `GET /collections?filter=mission='sentinel-2'&filter-lang=cql2-text`\n",
      "\n",
      "- Paginated search: `GET /collections?token=eyJ...` \n",
      "\n",
      "Configured APIs:\n",
      "https://stac.maap-project.org\n",
      "https://stac.eoapi.dev\n",
      "https://cmr.earthdata.nasa.gov/stac/ALL\n",
      "\n",
      "Configured upstream APIs:\n",
      "- https://stac.maap-project.org\n",
      "- https://stac.eoapi.dev\n",
      "- https://cmr.earthdata.nasa.gov/stac/ALL\n"
     ]
    }
   ],
   "source": [
    "# Get the landing page to see what APIs are configured\n",
    "response = httpx.get(f\"{API_BASE_URL}/\")\n",
    "landing_page = response.json()\n",
    "\n",
    "print(\"API Title:\", landing_page[\"title\"])\n",
    "print(\"Description:\", landing_page[\"description\"])\n",
    "print(\"\\nConfigured upstream APIs:\")\n",
    "for link in landing_page[\"links\"]:\n",
    "    if link[\"rel\"] == \"child\":\n",
    "        print(f\"- {link['href']}\")"
   ]
  },
  {
   "cell_type": "markdown",
   "id": "j1sqfx4mohq",
   "metadata": {
    "editable": true,
    "slideshow": {
     "slide_type": ""
    },
    "tags": []
   },
   "source": [
    "### Check Conformance Classes\n",
    "\n",
    "The conformance classes tell us what capabilities are available. Remember, these are dynamically calculated based on what ALL upstream APIs support."
   ]
  },
  {
   "cell_type": "code",
   "execution_count": 3,
   "id": "t5nuwdtrymh",
   "metadata": {
    "editable": true,
    "slideshow": {
     "slide_type": ""
    },
    "tags": []
   },
   "outputs": [
    {
     "name": "stdout",
     "output_type": "stream",
     "text": [
      "Supported collection-search conformance classes:\n",
      "- https://api.stacspec.org/v1.0.0-rc.1/collection-search\n",
      "- https://api.stacspec.org/v1.0.0-rc.1/collection-search#free-text\n",
      "- https://api.stacspec.org/v1.0.0-rc.1/collection-search#sort\n"
     ]
    }
   ],
   "source": [
    "# Check what features are supported\n",
    "response = httpx.get(f\"{API_BASE_URL}/conformance\")\n",
    "conformance = response.json()\n",
    "\n",
    "print(\"Supported collection-search conformance classes:\")\n",
    "for cls in conformance[\"conformsTo\"]:\n",
    "    if \"collection-search\" in cls:\n",
    "        print(f\"- {cls}\")"
   ]
  },
  {
   "cell_type": "markdown",
   "id": "888a5039-5421-4797-9ca0-ad56c51b20e2",
   "metadata": {
    "editable": true,
    "slideshow": {
     "slide_type": ""
    },
    "tags": []
   },
   "source": [
    "The important ones for this application are the `/collection-search` conformance classes. In this example, basic collection search is available along with the `sort` and `free-text` extensions.\n",
    "\n",
    "If we specify a specific set of upstream APIs (using the `apis` parameter), the conformance classes can change."
   ]
  },
  {
   "cell_type": "code",
   "execution_count": 4,
   "id": "b8858b21-7ed9-4bd1-a82a-43f0c8d2beac",
   "metadata": {
    "editable": true,
    "slideshow": {
     "slide_type": ""
    },
    "tags": []
   },
   "outputs": [
    {
     "name": "stdout",
     "output_type": "stream",
     "text": [
      "Supported conformance classes:\n",
      "- https://api.stacspec.org/v1.0.0-rc.1/collection-search\n",
      "- https://api.stacspec.org/v1.0.0-rc.1/collection-search#fields\n",
      "- https://api.stacspec.org/v1.0.0-rc.1/collection-search#filter\n",
      "- https://api.stacspec.org/v1.0.0-rc.1/collection-search#free-text\n",
      "- https://api.stacspec.org/v1.0.0-rc.1/collection-search#sort\n"
     ]
    }
   ],
   "source": [
    "response = httpx.get(\n",
    "    f\"{API_BASE_URL}/conformance\",\n",
    "    params={\n",
    "        \"apis\": [\n",
    "            \"https://stac.maap-project.org\",\n",
    "            \"https://stac.eoapi.dev\",\n",
    "        ]\n",
    "    },\n",
    ")\n",
    "conformance = response.json()\n",
    "\n",
    "print(\"Supported conformance classes:\")\n",
    "for cls in conformance[\"conformsTo\"]:\n",
    "    if \"collection-search\" in cls:\n",
    "        print(f\"- {cls}\")"
   ]
  },
  {
   "cell_type": "markdown",
   "id": "2ae88f6e-4257-400b-9b2f-8460ebea61a4",
   "metadata": {
    "editable": true,
    "slideshow": {
     "slide_type": ""
    },
    "tags": []
   },
   "source": [
    "By not including `https://cmr.earthdata.nasa.gov/stac/ALL` (which doesn't include the `filter` extension), our API is now capable of applying the `filter` extension to collection searches!"
   ]
  },
  {
   "cell_type": "markdown",
   "id": "lyrxu9gez1",
   "metadata": {
    "editable": true,
    "slideshow": {
     "slide_type": ""
    },
    "tags": []
   },
   "source": [
    "## Basic Collection Search\n",
    "\n",
    "Let's start with a simple collection search across all of the pre-configured APIs."
   ]
  },
  {
   "cell_type": "code",
   "execution_count": 13,
   "id": "vy6018o4k5",
   "metadata": {
    "editable": true,
    "slideshow": {
     "slide_type": ""
    },
    "tags": []
   },
   "outputs": [
    {
     "name": "stdout",
     "output_type": "stream",
     "text": [
      "Number of collections returned: 6\n",
      "\n",
      "Collection IDs:\n",
      "- ABoVE_UAVSAR_PALSAR\n",
      "- AFRISAR_DLR\n",
      "- copernicus-dem\n",
      "- MAXAR_afghanistan_earthquake22\n",
      "- latent-reserves-in-the-swiss-nfi_1.0\n",
      "- ASAC_2201_HCL_0.5_1\n",
      "\n",
      "Pagination links:\n",
      "- self: http://localhost:8000/collections?limit=2\n",
      "- next: http://localhost:8000/collections?token=eyJjdXJyZW50Ijp7Imh0dHBzOi8vc3RhYy5tYWFwLXByb2plY3Qub3JnIjoiaHR0cHM6Ly9zdGFjLm1hYXAtcHJvamVjdC5vcmcvY29sbGVjdGlvbnM_bGltaXQ9MiZmaWx0ZXJfbGFuZz1jcWwyLXRleHQmb2Zmc2V0PTIiLCJodHRwczovL3N0YWMuZW9hcGkuZGV2IjoiaHR0cHM6Ly9zdGFjLmVvYXBpLmRldi9jb2xsZWN0aW9ucz9saW1pdD0yJmZpbHRlcl9sYW5nPWNxbDItdGV4dCZvZmZzZXQ9MiIsImh0dHBzOi8vY21yLmVhcnRoZGF0YS5uYXNhLmdvdi9zdGFjL0FMTCI6Imh0dHBzOi8vY21yLmVhcnRoZGF0YS5uYXNhLmdvdi9zdGFjL0FMTC9jb2xsZWN0aW9ucz9maWx0ZXJfbGFuZz1jcWwyLXRleHQmbGltaXQ9MiZjdXJzb3I9ZXlKcWMyOXVJam9pVzF3aU1DNDFJR2h2ZFhJZ01TQnRJR2hqYkNCbGVIUnlZV04wYVc5dUlHUmhkR0VnWm05eUlIUm9aU0IzYVc1a2JXbHNiQ0JwYzJ4aGJtUnpJRzFoY21sdVpTQnpaV1JwYldWdWRITmNJaXhjSWtGVlgwRkJSRU5jSWl4Y0lrRlRRVU5mTWpJd01WOUlRMHhmTUM0MVhDSXNYQ0l4WENJc01USXhORE13TlRneE15d3hNMTBpTENKMWJXMGlPaUpiWENJd0xqVWdhRzkxY2lBeElHMGdhR05zSUdWNGRISmhZM1JwYjI0Z1pHRjBZU0JtYjNJZ2RHaGxJSGRwYm1SdGFXeHNJR2x6YkdGdVpITWdiV0Z5YVc1bElITmxaR2x0Wlc1MGMxd2lMRndpUVZWZlFVRkVRMXdpTEZ3aVFWTkJRMTh5TWpBeFgwaERURjh3TGpWY0lpeGNJakZjSWl3eE1qRTBNekExT0RFekxERXpYU0o5In0sImlzX2ZpcnN0X3BhZ2UiOmZhbHNlfQ==\n"
     ]
    }
   ],
   "source": [
    "# Basic collection search with a small limit\n",
    "response = httpx.get(f\"{API_BASE_URL}/collections?limit=2\")\n",
    "results = response.json()\n",
    "\n",
    "print(f\"Number of collections returned: {len(results['collections'])}\")\n",
    "\n",
    "print(\"\\nCollection IDs:\")\n",
    "for collection in results[\"collections\"]:\n",
    "    print(f\"- {collection['id']}\")\n",
    "\n",
    "print(\"\\nPagination links:\")\n",
    "for link in results[\"links\"]:\n",
    "    if link[\"rel\"] in [\"self\", \"next\", \"previous\"]:\n",
    "        print(f\"- {link['rel']}: {link['href']}\")"
   ]
  },
  {
   "cell_type": "markdown",
   "id": "bc3dac6e-e493-4f89-8add-3aeb4f01d9c8",
   "metadata": {},
   "source": [
    "Notice how with `limit=2`, we will get more than two collections total since the limit applies to each upstream API individually.\n",
    "\n",
    "### Pagination\n",
    "The initial request returned the first page of results from each upstream API and included a `next` link with the search state embedded in it. When you send a request to the `next` link the API will decode the token into a list of `next` links from the upstream APIs, send those requests, and return the results back to you."
   ]
  },
  {
   "cell_type": "code",
   "execution_count": 14,
   "id": "f65ccbc3-6061-4575-889b-7b116ee24db7",
   "metadata": {},
   "outputs": [
    {
     "name": "stdout",
     "output_type": "stream",
     "text": [
      "Number of collections returned in second page: 6\n",
      "\n",
      "Collection IDs:\n",
      "- AFRISAR_DLR2\n",
      "- AfriSAR_UAVSAR_Coreg_SLC\n",
      "- MAXAR_BayofBengal_Cyclone_Mocha_May_23\n",
      "- MAXAR_cyclone_emnati22\n",
      "- urn:ogc:def:EOP:VITO:VGT_S10_1\n",
      "- LGB_10m_traverse_1\n",
      "\n",
      "Pagination links:\n",
      "- self: http://localhost:8000/collections?token=eyJjdXJyZW50Ijp7Imh0dHBzOi8vc3RhYy5tYWFwLXByb2plY3Qub3JnIjoiaHR0cHM6Ly9zdGFjLm1hYXAtcHJvamVjdC5vcmcvY29sbGVjdGlvbnM_bGltaXQ9MiZmaWx0ZXJfbGFuZz1jcWwyLXRleHQmb2Zmc2V0PTIiLCJodHRwczovL3N0YWMuZW9hcGkuZGV2IjoiaHR0cHM6Ly9zdGFjLmVvYXBpLmRldi9jb2xsZWN0aW9ucz9saW1pdD0yJmZpbHRlcl9sYW5nPWNxbDItdGV4dCZvZmZzZXQ9MiIsImh0dHBzOi8vY21yLmVhcnRoZGF0YS5uYXNhLmdvdi9zdGFjL0FMTCI6Imh0dHBzOi8vY21yLmVhcnRoZGF0YS5uYXNhLmdvdi9zdGFjL0FMTC9jb2xsZWN0aW9ucz9maWx0ZXJfbGFuZz1jcWwyLXRleHQmbGltaXQ9MiZjdXJzb3I9ZXlKcWMyOXVJam9pVzF3aU1DNDFJR2h2ZFhJZ01TQnRJR2hqYkNCbGVIUnlZV04wYVc5dUlHUmhkR0VnWm05eUlIUm9aU0IzYVc1a2JXbHNiQ0JwYzJ4aGJtUnpJRzFoY21sdVpTQnpaV1JwYldWdWRITmNJaXhjSWtGVlgwRkJSRU5jSWl4Y0lrRlRRVU5mTWpJd01WOUlRMHhmTUM0MVhDSXNYQ0l4WENJc01USXhORE13TlRneE15d3hNMTBpTENKMWJXMGlPaUpiWENJd0xqVWdhRzkxY2lBeElHMGdhR05zSUdWNGRISmhZM1JwYjI0Z1pHRjBZU0JtYjNJZ2RHaGxJSGRwYm1SdGFXeHNJR2x6YkdGdVpITWdiV0Z5YVc1bElITmxaR2x0Wlc1MGMxd2lMRndpUVZWZlFVRkVRMXdpTEZ3aVFWTkJRMTh5TWpBeFgwaERURjh3TGpWY0lpeGNJakZjSWl3eE1qRTBNekExT0RFekxERXpYU0o5In0sImlzX2ZpcnN0X3BhZ2UiOmZhbHNlfQ==\n",
      "- previous: http://localhost:8000/collections?token=eyJjdXJyZW50Ijp7Imh0dHBzOi8vc3RhYy5tYWFwLXByb2plY3Qub3JnIjoiaHR0cHM6Ly9zdGFjLm1hYXAtcHJvamVjdC5vcmcvY29sbGVjdGlvbnM_bGltaXQ9MiZmaWx0ZXJfbGFuZz1jcWwyLXRleHQmb2Zmc2V0PTAiLCJodHRwczovL3N0YWMuZW9hcGkuZGV2IjoiaHR0cHM6Ly9zdGFjLmVvYXBpLmRldi9jb2xsZWN0aW9ucz9saW1pdD0yJmZpbHRlcl9sYW5nPWNxbDItdGV4dCZvZmZzZXQ9MCJ9LCJpc19maXJzdF9wYWdlIjpmYWxzZX0=\n",
      "- next: http://localhost:8000/collections?token=eyJjdXJyZW50Ijp7Imh0dHBzOi8vc3RhYy5tYWFwLXByb2plY3Qub3JnIjoiaHR0cHM6Ly9zdGFjLm1hYXAtcHJvamVjdC5vcmcvY29sbGVjdGlvbnM_bGltaXQ9MiZmaWx0ZXJfbGFuZz1jcWwyLXRleHQmb2Zmc2V0PTQiLCJodHRwczovL3N0YWMuZW9hcGkuZGV2IjoiaHR0cHM6Ly9zdGFjLmVvYXBpLmRldi9jb2xsZWN0aW9ucz9saW1pdD0yJmZpbHRlcl9sYW5nPWNxbDItdGV4dCZvZmZzZXQ9NCIsImh0dHBzOi8vY21yLmVhcnRoZGF0YS5uYXNhLmdvdi9zdGFjL0FMTCI6Imh0dHBzOi8vY21yLmVhcnRoZGF0YS5uYXNhLmdvdi9zdGFjL0FMTC9jb2xsZWN0aW9ucz9jdXJzb3I9ZXlKcWMyOXVJam9pVzF3aU1UQWdiU0JtYVhKdUlIUmxiWEJsY21GMGRYSmxJR1JoZEdFNklHeG5ZaUIwY21GMlpYSnpaWE1nTVRrNU1DMDVOVndpTEZ3aVFWVmZRVUZFUTF3aUxGd2lURWRDWHpFd2JWOTBjbUYyWlhKelpWd2lMRndpTVZ3aUxERXlNVFF6TVRNMU56UXNNVEJkSWl3aWRXMXRJam9pVzF3aU1UQWdiU0JtYVhKdUlIUmxiWEJsY21GMGRYSmxJR1JoZEdFNklHeG5ZaUIwY21GMlpYSnpaWE1nTVRrNU1DMDVOVndpTEZ3aVFWVmZRVUZFUTF3aUxGd2lURWRDWHpFd2JWOTBjbUYyWlhKelpWd2lMRndpTVZ3aUxERXlNVFF6TVRNMU56UXNNVEJkSW4wJTNEJmZpbHRlcl9sYW5nPWNxbDItdGV4dCZsaW1pdD0yIn0sImlzX2ZpcnN0X3BhZ2UiOmZhbHNlfQ==\n"
     ]
    }
   ],
   "source": [
    "next_link = next(\n",
    "    (link[\"href\"] for link in results[\"links\"] if link[\"rel\"] == \"next\"),\n",
    "    None,\n",
    ")\n",
    "\n",
    "response = httpx.get(next_link)\n",
    "results = response.json()\n",
    "\n",
    "print(f\"Number of collections returned in second page: {len(results['collections'])}\")\n",
    "\n",
    "print(\"\\nCollection IDs:\")\n",
    "for collection in results[\"collections\"]:\n",
    "    print(f\"- {collection['id']}\")\n",
    "\n",
    "print(\"\\nPagination links:\")\n",
    "for link in results[\"links\"]:\n",
    "    if link[\"rel\"] in [\"self\", \"next\", \"previous\"]:\n",
    "        print(f\"- {link['rel']}: {link['href']}\")"
   ]
  },
  {
   "cell_type": "markdown",
   "id": "xw1atgv1oid",
   "metadata": {
    "editable": true,
    "slideshow": {
     "slide_type": ""
    },
    "tags": []
   },
   "source": [
    "### Searching Specific APIs\n",
    "\n",
    "You can override the default configured APIs by specifying which ones to query:"
   ]
  },
  {
   "cell_type": "code",
   "execution_count": 15,
   "id": "og42ph3xmvo",
   "metadata": {
    "editable": true,
    "slideshow": {
     "slide_type": ""
    },
    "tags": []
   },
   "outputs": [
    {
     "name": "stdout",
     "output_type": "stream",
     "text": [
      "Searching specific APIs: ['https://stac.eoapi.dev', 'https://stac.maap-project.org']\n",
      "Collections returned: 6\n",
      "\n",
      "Some collection IDs:\n",
      "- copernicus-dem\n",
      "- MAXAR_afghanistan_earthquake22\n",
      "- MAXAR_BayofBengal_Cyclone_Mocha_May_23\n",
      "- ABoVE_UAVSAR_PALSAR\n",
      "- AFRISAR_DLR\n",
      "- AFRISAR_DLR2\n",
      "\n",
      "Canonical links (showing which APIs were queried):\n",
      "- https://stac.eoapi.dev/collections?limit=3&filter_lang=cql2-text\n",
      "- https://stac.maap-project.org/collections?limit=3&filter_lang=cql2-text\n"
     ]
    }
   ],
   "source": [
    "# Search only specific APIs\n",
    "params = {\n",
    "    \"apis\": [\n",
    "        \"https://stac.eoapi.dev\",\n",
    "        \"https://stac.maap-project.org\",\n",
    "    ],\n",
    "    \"limit\": 3,\n",
    "}\n",
    "response = httpx.get(\n",
    "    f\"{API_BASE_URL}/collections\",\n",
    "    params=params,\n",
    "    timeout=None,\n",
    ")\n",
    "collections = response.json()\n",
    "\n",
    "print(f\"Searching specific APIs: {params['apis']}\")\n",
    "print(f\"Collections returned: {len(collections['collections'])}\")\n",
    "print(\"\\nSome collection IDs:\")\n",
    "for collection in collections[\"collections\"]:\n",
    "    print(f\"- {collection['id']}\")\n",
    "\n",
    "# Check canonical links to see which APIs were actually queried\n",
    "print(\"\\nCanonical links (showing which APIs were queried):\")\n",
    "for link in collections[\"links\"]:\n",
    "    if link[\"rel\"] == \"canonical\":\n",
    "        print(f\"- {link['href']}\")"
   ]
  },
  {
   "cell_type": "markdown",
   "id": "ixskfhu5wdg",
   "metadata": {
    "editable": true,
    "slideshow": {
     "slide_type": ""
    },
    "tags": []
   },
   "source": [
    "## Advanced Searches\n",
    "\n",
    "### Free-Text Search\n",
    "\n",
    "Search collections using keywords (if supported by the upstream APIs):"
   ]
  },
  {
   "cell_type": "code",
   "execution_count": 17,
   "id": "jw841uxnhp",
   "metadata": {
    "editable": true,
    "slideshow": {
     "slide_type": ""
    },
    "tags": []
   },
   "outputs": [
    {
     "name": "stdout",
     "output_type": "stream",
     "text": [
      "Collections matching 'landsat':\n",
      "Collections returned: 4\n",
      "\n",
      "Matching collections:\n",
      "- glad-glclu2020-change-v2\n",
      "  Title: GLAD: Net change of land cover and land use between 2000 and 2020\n",
      "  Upstream API link: https://stac.maap-project.org/collections/glad-glclu2020-change-v2\n",
      "  Description: The GLAD Global Land Cover and Land Use Change dataset quantifies changes in forest extent and heigh...\n",
      "\n",
      "- glad-glclu2020-v2\n",
      "  Title: GLAD: Annual maps of land cover and land use\n",
      "  Upstream API link: https://stac.maap-project.org/collections/glad-glclu2020-v2\n",
      "  Description: The GLAD Global Land Cover and Land Use Change dataset quantifies changes in forest extent and heigh...\n",
      "\n",
      "- HLSL30_2.0\n",
      "  Title: HLS Landsat Operational Land Imager Surface Reflectance and TOA Brightness Daily Global 30m v2.0\n",
      "  Upstream API link: https://cmr.earthdata.nasa.gov/stac/LPCLOUD/collections/HLSL30_2.0\n",
      "  Description: The Harmonized Landsat Sentinel-2 (HLS) project provides consistent surface reflectance (SR) and top...\n",
      "\n",
      "- OPERA_L3_DIST-ALERT-HLS_V1_1\n",
      "  Title: OPERA Land Surface Disturbance Alert from Harmonized Landsat Sentinel-2 product (Version 1)\n",
      "  Upstream API link: https://cmr.earthdata.nasa.gov/stac/LPCLOUD/collections/OPERA_L3_DIST-ALERT-HLS_V1_1\n",
      "  Description: The Observational Products for End-Users from Remote Sensing Analysis ([OPERA](https://www.jpl.nasa....\n",
      "\n"
     ]
    }
   ],
   "source": [
    "# Free-text search for Landsat collections\n",
    "params = {\"q\": \"landsat\", \"limit\": 2}\n",
    "response = httpx.get(f\"{API_BASE_URL}/collections\", params=params)\n",
    "collections = response.json()\n",
    "\n",
    "print(f\"Collections matching '{params['q']}':\")\n",
    "print(f\"Collections returned: {len(collections['collections'])}\")\n",
    "print(\"\\nMatching collections:\")\n",
    "for collection in collections[\"collections\"]:\n",
    "    title = collection.get(\"title\", \"No title\")\n",
    "    description = (\n",
    "        collection.get(\"description\", \"\")[:100] + \"...\"\n",
    "        if len(collection.get(\"description\", \"\")) > 100\n",
    "        else collection.get(\"description\", \"\")\n",
    "    )\n",
    "    api_link = next(\n",
    "        (link[\"href\"] for link in collection[\"links\"] if link[\"rel\"] == \"self\"),\n",
    "        None,\n",
    "    )\n",
    "    print(f\"- {collection['id']}\")\n",
    "    print(f\"  Title: {title}\")\n",
    "    print(f\"  Upstream API link: {api_link}\")\n",
    "    print(f\"  Description: {description}\")\n",
    "    print()"
   ]
  },
  {
   "cell_type": "markdown",
   "id": "da2ft866mp",
   "metadata": {
    "editable": true,
    "slideshow": {
     "slide_type": ""
    },
    "tags": []
   },
   "source": [
    "### Bounding Box Search\n",
    "\n",
    "Search for collections that intersect with a geographic area:"
   ]
  },
  {
   "cell_type": "code",
   "execution_count": 18,
   "id": "okx67kk087e",
   "metadata": {
    "editable": true,
    "slideshow": {
     "slide_type": ""
    },
    "tags": []
   },
   "outputs": [
    {
     "name": "stdout",
     "output_type": "stream",
     "text": [
      "Collections intersecting bbox -125,25,-66,49:\n",
      "Collections returned: 6\n",
      "\n",
      "Collection details:\n",
      "- ESACCI_Biomass_L4_AGB_V4_100m\n",
      "  Upstream API link: https://stac.maap-project.org/collections/ESACCI_Biomass_L4_AGB_V4_100m\n",
      "  Extent: [-180.0, -90.0, 180.0, 90.0]\n",
      "\n",
      "- GEDI_CalVal_Field_Data\n",
      "  Upstream API link: https://stac.maap-project.org/collections/GEDI_CalVal_Field_Data\n",
      "  Extent: [-156.0001973, -43.1031025, 155.7179351, 65.4300929]\n",
      "\n",
      "- copernicus-dem\n",
      "  Upstream API link: https://stac.eoapi.dev/collections/copernicus-dem\n",
      "  Extent: [-180.0, -90.0, 180.0, 90.0]\n",
      "\n",
      "- MAXAR_Hurricane_Fiona_9_19_2022\n",
      "  Upstream API link: https://stac.eoapi.dev/collections/MAXAR_Hurricane_Fiona_9_19_2022\n",
      "  Extent: [-71.187593, 17.954147, -63.439022, 44.773025]\n",
      "\n",
      "- urn:ogc:def:EOP:VITO:VGT_S10_1\n",
      "  Upstream API link: https://cmr.earthdata.nasa.gov/stac/FEDEO/collections/urn%3Aogc%3Adef%3AEOP%3AVITO%3AVGT_S10_1\n",
      "  Extent: [-180, -56, 180, 75]\n",
      "\n",
      "- 14c_of_soil_co2_from_ipy_itex_cross_site_comparison\n",
      "  Upstream API link: https://cmr.earthdata.nasa.gov/stac/SCIOPS/collections/14c_of_soil_co2_from_ipy_itex_cross_site_comparison\n",
      "  Extent: [-157.4, -36.9, 147.29, 71.3]\n",
      "\n"
     ]
    }
   ],
   "source": [
    "# Search collections intersecting with a bounding box (example: continental US)\n",
    "params = {\n",
    "    \"bbox\": \"-125,25,-66,49\",  # [west, south, east, north]\n",
    "    \"limit\": 2,\n",
    "}\n",
    "response = httpx.get(f\"{API_BASE_URL}/collections\", params=params)\n",
    "collections = response.json()\n",
    "\n",
    "print(f\"Collections intersecting bbox {params['bbox']}:\")\n",
    "print(f\"Collections returned: {len(collections['collections'])}\")\n",
    "print(\"\\nCollection details:\")\n",
    "for collection in collections[\"collections\"]:\n",
    "    spatial_extent = collection.get(\"extent\", {}).get(\"spatial\", {})\n",
    "    bbox_extent = spatial_extent.get(\"bbox\", [[]])[0] if spatial_extent else \"N/A\"\n",
    "    api_link = next(\n",
    "        (link[\"href\"] for link in collection[\"links\"] if link[\"rel\"] == \"self\"),\n",
    "        None,\n",
    "    )\n",
    "    print(f\"- {collection['id']}\")\n",
    "    print(f\"  Upstream API link: {api_link}\")\n",
    "    print(f\"  Extent: {bbox_extent}\")\n",
    "    print()"
   ]
  },
  {
   "cell_type": "markdown",
   "id": "lc0zz91tqu",
   "metadata": {
    "editable": true,
    "slideshow": {
     "slide_type": ""
    },
    "tags": []
   },
   "source": [
    "## Using pystac-client\n",
    "\n",
    "The Collection Discovery API is fully compatible with `pystac-client`, which provides a more pythonic interface:"
   ]
  },
  {
   "cell_type": "code",
   "execution_count": 22,
   "id": "e9shs2ents5",
   "metadata": {
    "editable": true,
    "slideshow": {
     "slide_type": ""
    },
    "tags": []
   },
   "outputs": [
    {
     "name": "stdout",
     "output_type": "stream",
     "text": [
      "API Info:\n",
      "Title: STAC Collection Discovery API\n",
      "Description: A collection-search-only STAC API that combines paginated search results from multiple upstream STAC...\n",
      "\n",
      "Conformance classes: 12 classes\n",
      "- http://www.opengis.net/spec/cql2/1.0/conf/basic-cql2\n",
      "- http://www.opengis.net/spec/cql2/1.0/conf/cql2-json\n",
      "- http://www.opengis.net/spec/cql2/1.0/conf/cql2-text\n",
      "- http://www.opengis.net/spec/ogcapi-common-2/1.0/conf/simple-query\n",
      "- http://www.opengis.net/spec/ogcapi-features-1/1.0/conf/core\n",
      "- http://www.opengis.net/spec/ogcapi-features-1/1.0/conf/oas30\n",
      "- http://www.opengis.net/spec/ogcapi-features-3/1.0/conf/filter\n",
      "- https://api.stacspec.org/v1.0.0-rc.1/collection-search\n",
      "- https://api.stacspec.org/v1.0.0-rc.1/collection-search#free-text\n",
      "- https://api.stacspec.org/v1.0.0-rc.1/collection-search#sort\n",
      "- https://api.stacspec.org/v1.0.0/collections\n",
      "- https://api.stacspec.org/v1.0.0/core\n"
     ]
    }
   ],
   "source": [
    "# Connect to the API using pystac-client\n",
    "client = pystac_client.Client.open(API_BASE_URL)\n",
    "\n",
    "print(\"API Info:\")\n",
    "print(f\"Title: {client.title}\")\n",
    "print(f\"Description: {client.description[:100]}...\")\n",
    "\n",
    "# Get conformance classes\n",
    "conformance = client.get_conforms_to()\n",
    "print(f\"\\nConformance classes: {len(conformance)} classes\")\n",
    "for cls in conformance:\n",
    "    print(f\"- {cls}\")"
   ]
  },
  {
   "cell_type": "code",
   "execution_count": 23,
   "id": "016ulmixxu8z9",
   "metadata": {
    "editable": true,
    "slideshow": {
     "slide_type": ""
    },
    "tags": []
   },
   "outputs": [
    {
     "name": "stdout",
     "output_type": "stream",
     "text": [
      "Searching for biomass collections using pystac-client:\n",
      "\n",
      "- AFRISAR_DLR\n",
      "  Title: AFRISAR_DLR\n",
      "  Upstream API link: https://stac.maap-project.org/collections/AFRISAR_DLR\n",
      "  Description: The  ESA  BIOMASS  mission  was  selected  in  2013  as  the  7th  Earth  Explorer  mission.  BIOMAS...\n",
      "\n",
      "- AFRISAR_DLR2\n",
      "  Title: AFRISAR_DLR2\n",
      "  Upstream API link: https://stac.maap-project.org/collections/AFRISAR_DLR2\n",
      "  Description: The ESA BIOMASS mission was selected in 2013 as the 7th Earth Explorer mission. BIOMASS will provide...\n",
      "\n",
      "- BIOMASS\n",
      "  Title: Biological Investigations of Marine Antarctic Systems and Stocks (BIOMASS) Data Set\n",
      "  Upstream API link: https://cmr.earthdata.nasa.gov/stac/SCIOPS/collections/BIOMASS\n",
      "  Description: BIOMASS (Biological Investigations of Marine Antarctic Systems and Stocks) was\n",
      "a major multi-nationa...\n",
      "\n",
      "- 95913ffb6467447ca72c4e9d8cf30501_NA\n",
      "  Title: ESA Biomass Climate Change Initiative (Biomass_cci): Global datasets of forest above-ground biomass for the years 2007, 2010, 2015, 2016, 2017, 2018, 2019, 2020, 2021 and 2022, v6.0\n",
      "  Upstream API link: https://cmr.earthdata.nasa.gov/stac/FEDEO/collections/95913ffb6467447ca72c4e9d8cf30501_NA\n",
      "  Description: This dataset comprises estimates of forest above-ground biomass (AGB) for the years 2007, 2010, 2015...\n",
      "\n",
      "- AfriSAR_UAVSAR_Geocoded_Covariance\n",
      "  Title: AfriSAR UAVSAR Geocoded Covariance Matrix product Generated Using NISAR Tools\n",
      "  Upstream API link: https://stac.maap-project.org/collections/AfriSAR_UAVSAR_Geocoded_Covariance\n",
      "  Description: The Geocoded Covariance Matrix dataset is the 4x4 Native Covariance Matrix geocoded to a spatial res...\n"
     ]
    }
   ],
   "source": [
    "# Search for biomass collections using pystac-client\n",
    "search = client.collection_search(q=\"biomass\", limit=2)\n",
    "\n",
    "print(\"Searching for biomass collections using pystac-client:\")\n",
    "\n",
    "# Show collection details\n",
    "for i, collection in enumerate(search.collections()):\n",
    "    print(f\"\\n- {collection.id}\")\n",
    "    print(f\"  Title: {collection.title}\")\n",
    "    print(f\"  Upstream API link: {collection.get_self_href()}\")\n",
    "    description = (\n",
    "        collection.description[:100] + \"...\"\n",
    "        if len(collection.description) > 100\n",
    "        else collection.description\n",
    "    )\n",
    "    print(f\"  Description: {description}\")\n",
    "    if i > 3:\n",
    "        break"
   ]
  },
  {
   "cell_type": "markdown",
   "id": "8x9abcoa2bn",
   "metadata": {
    "editable": true,
    "slideshow": {
     "slide_type": ""
    },
    "tags": []
   },
   "source": [
    "### Searching Specific APIs with pystac-client\n",
    "\n",
    "You can also specify which upstream APIs to query by supplying the `apis` parameter in a `request_modifier` function:"
   ]
  },
  {
   "cell_type": "code",
   "execution_count": 25,
   "id": "q7577i18l3",
   "metadata": {
    "editable": true,
    "slideshow": {
     "slide_type": ""
    },
    "tags": []
   },
   "outputs": [
    {
     "name": "stdout",
     "output_type": "stream",
     "text": [
      "Searching specific APIs for biomass collections:\n",
      "\n",
      "- AFRISAR_DLR\n",
      "  Title: AFRISAR_DLR\n",
      "  Upstream API link: https://stac.maap-project.org/collections/AFRISAR_DLR\n",
      "  Description: The  ESA  BIOMASS  mission  was  selected  in  2013  as  the  7th  Earth  Explorer  mission.  BIOMAS...\n",
      "\n",
      "- AFRISAR_DLR2\n",
      "  Title: AFRISAR_DLR2\n",
      "  Upstream API link: https://stac.maap-project.org/collections/AFRISAR_DLR2\n",
      "  Description: The ESA BIOMASS mission was selected in 2013 as the 7th Earth Explorer mission. BIOMASS will provide...\n",
      "\n",
      "- AfriSAR_UAVSAR_Geocoded_Covariance\n",
      "  Title: AfriSAR UAVSAR Geocoded Covariance Matrix product Generated Using NISAR Tools\n",
      "  Upstream API link: https://stac.maap-project.org/collections/AfriSAR_UAVSAR_Geocoded_Covariance\n",
      "  Description: The Geocoded Covariance Matrix dataset is the 4x4 Native Covariance Matrix geocoded to a spatial res...\n",
      "\n",
      "- AfriSAR_UAVSAR_Geocoded_SLC\n",
      "  Title: AfriSAR UAVSAR Geocoded SLCs Generated Using NISAR Tools\n",
      "  Upstream API link: https://stac.maap-project.org/collections/AfriSAR_UAVSAR_Geocoded_SLC\n",
      "  Description: The Geocoded SLC (single-look-complex) dataset contains the geolocated SLC magnitude of a particular...\n",
      "\n",
      "- AfriSAR_UAVSAR_KZ\n",
      "  Title: AfriSAR UAVSAR Vertical Wavenumber (KZ) Generated Using NISAR Tools\n",
      "  Upstream API link: https://stac.maap-project.org/collections/AfriSAR_UAVSAR_KZ\n",
      "  Description: The Vertical Wavenumber dataset is the derivative of the radar interferometic phase for each single-...\n"
     ]
    }
   ],
   "source": [
    "# Connect to specific APIs using pystac-client\n",
    "def add_apis(request: Request):\n",
    "    \"\"\"Add the `apis` parameter to all requests to this STAC API client\"\"\"\n",
    "    request.params.update(\n",
    "        {\n",
    "            \"apis\": [\n",
    "                \"https://stac.eoapi.dev\",\n",
    "                \"https://stac.maap-project.org\",\n",
    "            ]\n",
    "        }\n",
    "    )\n",
    "    return request\n",
    "\n",
    "\n",
    "specific_client = pystac_client.Client.open(API_BASE_URL, request_modifier=add_apis)\n",
    "\n",
    "# Search for biomass collections from specific APIs only\n",
    "search = specific_client.collection_search(q=\"biomass\", limit=2)\n",
    "\n",
    "print(\"Searching specific APIs for biomass collections:\")\n",
    "\n",
    "# Show collection details\n",
    "for i, collection in enumerate(search.collections()):\n",
    "    print(f\"\\n- {collection.id}\")\n",
    "    print(f\"  Title: {collection.title}\")\n",
    "    print(f\"  Upstream API link: {collection.get_self_href()}\")\n",
    "    description = (\n",
    "        collection.description[:100] + \"...\"\n",
    "        if len(collection.description) > 100\n",
    "        else collection.description\n",
    "    )\n",
    "    print(f\"  Description: {description}\")\n",
    "    if i > 3:\n",
    "        break"
   ]
  }
 ],
 "metadata": {
  "kernelspec": {
   "display_name": "Python 3 (ipykernel)",
   "language": "python",
   "name": "python3"
  },
  "language_info": {
   "codemirror_mode": {
    "name": "ipython",
    "version": 3
   },
   "file_extension": ".py",
   "mimetype": "text/x-python",
   "name": "python",
   "nbconvert_exporter": "python",
   "pygments_lexer": "ipython3",
   "version": "3.13.0"
  }
 },
 "nbformat": 4,
 "nbformat_minor": 5
}
